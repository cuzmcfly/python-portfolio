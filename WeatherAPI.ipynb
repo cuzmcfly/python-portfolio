{
 "cells": [
  {
   "cell_type": "code",
   "execution_count": 21,
   "id": "46476478-cffe-4742-9ca9-6ab8daed919a",
   "metadata": {},
   "outputs": [],
   "source": [
    "import requests\n",
    "import json\n",
    "\n",
    "api_key = 'a58face3a9254626a6d172341250709'  # Replace with your actual API key\n",
    "url = 'https://api.weatherapi.com/v1/current.json' "
   ]
  },
  {
   "cell_type": "code",
   "execution_count": 22,
   "id": "556e8d70-5413-43d1-8af5-5e179a219a10",
   "metadata": {},
   "outputs": [],
   "source": [
    "# location = input(\"What city would you like the current weather for?\")\n",
    "params = {'key': api_key, 'q': \"North Hampton, New Hampshire\"}  # 'q' specifies the location"
   ]
  },
  {
   "cell_type": "code",
   "execution_count": 23,
   "id": "66cc3f16-c721-4ea6-9644-2c8a6e77bfbe",
   "metadata": {},
   "outputs": [
    {
     "name": "stdout",
     "output_type": "stream",
     "text": [
      "{\n",
      "    \"location\": {\n",
      "        \"name\": \"North Hampton\",\n",
      "        \"region\": \"New Hampshire\",\n",
      "        \"country\": \"United States of America\",\n",
      "        \"lat\": 42.9725,\n",
      "        \"lon\": -70.8303,\n",
      "        \"tz_id\": \"America/New_York\",\n",
      "        \"localtime_epoch\": 1757454586,\n",
      "        \"localtime\": \"2025-09-09 17:49\"\n",
      "    },\n",
      "    \"current\": {\n",
      "        \"last_updated_epoch\": 1757454300,\n",
      "        \"last_updated\": \"2025-09-09 17:45\",\n",
      "        \"temp_c\": 19.3,\n",
      "        \"temp_f\": 66.7,\n",
      "        \"is_day\": 1,\n",
      "        \"condition\": {\n",
      "            \"text\": \"Partly cloudy\",\n",
      "            \"icon\": \"//cdn.weatherapi.com/weather/64x64/day/116.png\",\n",
      "            \"code\": 1003\n",
      "        },\n",
      "        \"wind_mph\": 7.2,\n",
      "        \"wind_kph\": 11.5,\n",
      "        \"wind_degree\": 105,\n",
      "        \"wind_dir\": \"ESE\",\n",
      "        \"pressure_mb\": 1028.0,\n",
      "        \"pressure_in\": 30.35,\n",
      "        \"precip_mm\": 0.0,\n",
      "        \"precip_in\": 0.0,\n",
      "        \"humidity\": 55,\n",
      "        \"cloud\": 75,\n",
      "        \"feelslike_c\": 19.3,\n",
      "        \"feelslike_f\": 66.7,\n",
      "        \"windchill_c\": 18.2,\n",
      "        \"windchill_f\": 64.8,\n",
      "        \"heatindex_c\": 18.3,\n",
      "        \"heatindex_f\": 64.9,\n",
      "        \"dewpoint_c\": 13.5,\n",
      "        \"dewpoint_f\": 56.2,\n",
      "        \"vis_km\": 16.0,\n",
      "        \"vis_miles\": 9.0,\n",
      "        \"uv\": 1.0,\n",
      "        \"gust_mph\": 9.5,\n",
      "        \"gust_kph\": 15.3,\n",
      "        \"short_rad\": 584.14,\n",
      "        \"diff_rad\": 64.0,\n",
      "        \"dni\": 0.0,\n",
      "        \"gti\": 71.08\n",
      "    }\n",
      "}\n"
     ]
    }
   ],
   "source": [
    "response = requests.get(url, params=params)\n",
    "data = response.json()  # Convert the response to JSON format\n",
    "\n",
    "print(json.dumps(data, indent=4))"
   ]
  },
  {
   "cell_type": "code",
   "execution_count": 24,
   "id": "774d2203-577b-4e5f-adab-a62d3a3ebc14",
   "metadata": {},
   "outputs": [
    {
     "name": "stdout",
     "output_type": "stream",
     "text": [
      "{'current': {'cloud': 75,\n",
      "             'condition': {'code': 1003,\n",
      "                           'icon': '//cdn.weatherapi.com/weather/64x64/day/116.png',\n",
      "                           'text': 'Partly cloudy'},\n",
      "             'dewpoint_c': 13.5,\n",
      "             'dewpoint_f': 56.2,\n",
      "             'diff_rad': 64.0,\n",
      "             'dni': 0.0,\n",
      "             'feelslike_c': 19.3,\n",
      "             'feelslike_f': 66.7,\n",
      "             'gti': 71.08,\n",
      "             'gust_kph': 15.3,\n",
      "             'gust_mph': 9.5,\n",
      "             'heatindex_c': 18.3,\n",
      "             'heatindex_f': 64.9,\n",
      "             'humidity': 55,\n",
      "             'is_day': 1,\n",
      "             'last_updated': '2025-09-09 17:45',\n",
      "             'last_updated_epoch': 1757454300,\n",
      "             'precip_in': 0.0,\n",
      "             'precip_mm': 0.0,\n",
      "             'pressure_in': 30.35,\n",
      "             'pressure_mb': 1028.0,\n",
      "             'short_rad': 584.14,\n",
      "             'temp_c': 19.3,\n",
      "             'temp_f': 66.7,\n",
      "             'uv': 1.0,\n",
      "             'vis_km': 16.0,\n",
      "             'vis_miles': 9.0,\n",
      "             'wind_degree': 105,\n",
      "             'wind_dir': 'ESE',\n",
      "             'wind_kph': 11.5,\n",
      "             'wind_mph': 7.2,\n",
      "             'windchill_c': 18.2,\n",
      "             'windchill_f': 64.8},\n",
      " 'location': {'country': 'United States of America',\n",
      "              'lat': 42.9725,\n",
      "              'localtime': '2025-09-09 17:49',\n",
      "              'localtime_epoch': 1757454586,\n",
      "              'lon': -70.8303,\n",
      "              'name': 'North Hampton',\n",
      "              'region': 'New Hampshire',\n",
      "              'tz_id': 'America/New_York'}}\n"
     ]
    }
   ],
   "source": [
    "from pprint import pprint\n",
    "pprint(data)"
   ]
  },
  {
   "cell_type": "code",
   "execution_count": 20,
   "id": "30dc305d-5888-4a4a-8277-c4e06f45c118",
   "metadata": {},
   "outputs": [
    {
     "ename": "KeyError",
     "evalue": "'forecast'",
     "output_type": "error",
     "traceback": [
      "\u001b[1;31m---------------------------------------------------------------------------\u001b[0m",
      "\u001b[1;31mKeyError\u001b[0m                                  Traceback (most recent call last)",
      "Cell \u001b[1;32mIn[20], line 7\u001b[0m\n\u001b[0;32m      4\u001b[0m location \u001b[38;5;241m=\u001b[39m data[\u001b[38;5;124m\"\u001b[39m\u001b[38;5;124mlocation\u001b[39m\u001b[38;5;124m\"\u001b[39m][\u001b[38;5;124m\"\u001b[39m\u001b[38;5;124mname\u001b[39m\u001b[38;5;124m\"\u001b[39m]\n\u001b[0;32m      6\u001b[0m \u001b[38;5;66;03m# Date\u001b[39;00m\n\u001b[1;32m----> 7\u001b[0m date \u001b[38;5;241m=\u001b[39m \u001b[43mdata\u001b[49m\u001b[43m[\u001b[49m\u001b[38;5;124;43m\"\u001b[39;49m\u001b[38;5;124;43mforecast\u001b[39;49m\u001b[38;5;124;43m\"\u001b[39;49m\u001b[43m]\u001b[49m[\u001b[38;5;124m\"\u001b[39m\u001b[38;5;124mforecastday\u001b[39m\u001b[38;5;124m\"\u001b[39m][\u001b[38;5;241m0\u001b[39m][\u001b[38;5;124m\"\u001b[39m\u001b[38;5;124mdate\u001b[39m\u001b[38;5;124m\"\u001b[39m]\n\u001b[0;32m      9\u001b[0m \u001b[38;5;66;03m# Sunrise and sunset (strings like \"6:19 AM\")\u001b[39;00m\n\u001b[0;32m     10\u001b[0m sunrise_str \u001b[38;5;241m=\u001b[39m data[\u001b[38;5;124m\"\u001b[39m\u001b[38;5;124mforecast\u001b[39m\u001b[38;5;124m\"\u001b[39m][\u001b[38;5;124m\"\u001b[39m\u001b[38;5;124mforecastday\u001b[39m\u001b[38;5;124m\"\u001b[39m][\u001b[38;5;241m0\u001b[39m][\u001b[38;5;124m\"\u001b[39m\u001b[38;5;124mastro\u001b[39m\u001b[38;5;124m\"\u001b[39m][\u001b[38;5;124m\"\u001b[39m\u001b[38;5;124msunrise\u001b[39m\u001b[38;5;124m\"\u001b[39m]\n",
      "\u001b[1;31mKeyError\u001b[0m: 'forecast'"
     ]
    }
   ],
   "source": [
    "from datetime import datetime\n",
    "\n",
    "# Location\n",
    "location = data[\"location\"][\"name\"]\n",
    "\n",
    "# Date\n",
    "date = data[\"forecast\"][\"forecastday\"][0][\"date\"]\n",
    "\n",
    "# Sunrise and sunset (strings like \"6:19 AM\")\n",
    "sunrise_str = data[\"forecast\"][\"forecastday\"][0][\"astro\"][\"sunrise\"]\n",
    "sunset_str = data[\"forecast\"][\"forecastday\"][0][\"astro\"][\"sunset\"]\n",
    "\n",
    "# Convert to datetime objects so we can do math\n",
    "sunrise = datetime.strptime(sunrise_str, \"%I:%M %p\")\n",
    "sunset = datetime.strptime(sunset_str, \"%I:%M %p\")\n",
    "\n",
    "# Daylight hours\n",
    "daylight_hours = sunset - sunrise"
   ]
  },
  {
   "cell_type": "code",
   "execution_count": null,
   "id": "e9db5e0d-2f0d-488f-9927-ca98c8225f59",
   "metadata": {},
   "outputs": [],
   "source": []
  }
 ],
 "metadata": {
  "kernelspec": {
   "display_name": "Python 3 (ipykernel)",
   "language": "python",
   "name": "python3"
  },
  "language_info": {
   "codemirror_mode": {
    "name": "ipython",
    "version": 3
   },
   "file_extension": ".py",
   "mimetype": "text/x-python",
   "name": "python",
   "nbconvert_exporter": "python",
   "pygments_lexer": "ipython3",
   "version": "3.10.13"
  }
 },
 "nbformat": 4,
 "nbformat_minor": 5
}
